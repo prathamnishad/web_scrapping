{
 "cells": [
  {
   "cell_type": "code",
   "execution_count": 1,
   "metadata": {},
   "outputs": [],
   "source": [
    "import requests"
   ]
  },
  {
   "cell_type": "code",
   "execution_count": 3,
   "metadata": {},
   "outputs": [],
   "source": [
    "from bs4 import BeautifulSoup as bs"
   ]
  },
  {
   "cell_type": "markdown",
   "metadata": {},
   "source": [
    "# geeksforgeeks"
   ]
  },
  {
   "cell_type": "code",
   "execution_count": 27,
   "metadata": {},
   "outputs": [],
   "source": [
    "link=\"https://www.geeksforgeeks.org/graph-data-structure-and-algorithms/\"\n",
    "page=requests.get(link)\n",
    "soup=bs(page.content,'html.parser')"
   ]
  },
  {
   "cell_type": "code",
   "execution_count": 41,
   "metadata": {},
   "outputs": [],
   "source": [
    "data=soup.find(class_=\"introDFSnBFS\")"
   ]
  },
  {
   "cell_type": "code",
   "execution_count": 46,
   "metadata": {},
   "outputs": [],
   "source": [
    "text=data.find_all(\"a\")"
   ]
  },
  {
   "cell_type": "code",
   "execution_count": 40,
   "metadata": {},
   "outputs": [
    {
     "name": "stdout",
     "output_type": "stream",
     "text": [
      "Graph and its representations\n"
     ]
    }
   ],
   "source": [
    "print(soup.find(class_=\"introDFSnBFS\").find_all(\"a\")[0].get_text())"
   ]
  },
  {
   "cell_type": "code",
   "execution_count": 54,
   "metadata": {},
   "outputs": [
    {
     "name": "stdout",
     "output_type": "stream",
     "text": [
      "['Graph and its representations', 'Breadth First Traversal for a Graph', 'Depth First Traversal for a Graph', 'Applications of Depth First Search', 'Applications of Breadth First Traversal']\n"
     ]
    }
   ],
   "source": [
    "data=[]\n",
    "for i in range(len(text)):\n",
    "    data.append(text[i].get_text())\n",
    "print(data[:5])"
   ]
  },
  {
   "cell_type": "code",
   "execution_count": null,
   "metadata": {},
   "outputs": [],
   "source": []
  },
  {
   "cell_type": "code",
   "execution_count": null,
   "metadata": {},
   "outputs": [],
   "source": []
  },
  {
   "cell_type": "markdown",
   "metadata": {},
   "source": [
    "# Dynamic programming"
   ]
  },
  {
   "cell_type": "code",
   "execution_count": 57,
   "metadata": {},
   "outputs": [
    {
     "name": "stdout",
     "output_type": "stream",
     "text": [
      "Longest Common Subsequence | Introduction & LCS Length\n"
     ]
    }
   ],
   "source": [
    "link=\"https://blog.usejournal.com/top-50-dynamic-programming-practice-problems-4208fed71aa3\"\n",
    "page=requests.get(link)\n",
    "soup=bs(page.content,'html.parser')\n",
    "data=soup.find(\"ol\")\n",
    "text=data.find_all(\"a\")\n"
   ]
  },
  {
   "cell_type": "code",
   "execution_count": 60,
   "metadata": {},
   "outputs": [
    {
     "name": "stdout",
     "output_type": "stream",
     "text": [
      "Longest Common Subsequence | Introduction & LCS Length\n",
      "Longest Common Subsequence | Finding all LCS\n",
      "Longest Common Substring problem\n",
      "Longest Palindromic Subsequence using Dynamic Programming\n",
      "Longest Repeated Subsequence Problem\n",
      "Implement Diff Utility\n",
      "Shortest Common Supersequence | Introduction & SCS Length\n",
      "Shortest Common Supersequence | Finding all SCS\n",
      "Longest Increasing Subsequence using Dynamic Programming\n",
      "Longest Bitonic Subsequence\n",
      "Increasing Subsequence with Maximum Sum\n",
      "The Levenshtein distance (Edit distance) problem\n",
      "Find size of largest square sub-matrix of 1’s present in given binary matrix\n",
      "Matrix Chain Multiplication using Dynamic Programming\n",
      "Find the minimum cost to reach last cell of the matrix from its first cell\n",
      "Find longest sequence formed by adjacent numbers in the matrix\n",
      "Count number of paths in a matrix with given cost to reach destination cell\n",
      "0–1 Knapsack problem\n",
      "Maximize the Value of an Expression\n",
      "Partition problem | Dynamic Programming Solution\n",
      "Subset Sum Problem\n",
      "Minimum Sum Partition Problem\n",
      "Find all N-digit binary strings without any consecutive 1’s\n",
      "Rod Cutting Problem\n",
      "Maximum Product Rod Cutting\n",
      "Coin change-making problem (unlimited supply of coins)\n",
      "Coin Change Problem (Total number of ways to get the denomination of coins)\n",
      "Longest Alternating Subsequence Problem\n",
      "Count number of times a pattern appears in given string as a subsequence\n",
      "Collect maximum points in a matrix by satisfying given constraints\n",
      "Count total possible combinations of N-digit numbers in a mobile keypad\n",
      "Find Optimal Cost to Construct Binary Search Tree\n",
      "Word Break Problem | Dynamic Programming\n",
      "Word Break Problem | Using Trie Data Structure\n",
      "Total possible solutions to linear equation of k variables\n",
      "Wildcard Pattern Matching\n",
      "Find Probability that a Person is Alive after Taking N steps on an Island\n",
      "Calculate sum of all elements in a sub-matrix in constant time\n",
      "Find Maximum Sum Submatrix in a given matrix\n",
      "Find Maximum Sum Submatrix present in a given matrix\n",
      "Find maximum sum of subsequence with no adjacent elements\n",
      "Maximum Subarray Problem (Kadane’s algorithm)\n",
      "Single-Source Shortest Paths — Bellman Ford Algorithm\n",
      "All-Pairs Shortest Paths — Floyd Warshall Algorithm\n",
      "Pots of Gold Game using Dynamic Programming\n",
      "Find minimum cuts needed for palindromic partition of a string\n",
      "Maximum Length Snake Sequence\n",
      "3-Partition Problem\n",
      "Calculate size of the largest plus of 1’s in binary matrix\n",
      "Check if given string is interleaving of two other given strings\n"
     ]
    }
   ],
   "source": [
    "for i in range(len(text)):\n",
    "    print(text[i].get_text())"
   ]
  },
  {
   "cell_type": "code",
   "execution_count": null,
   "metadata": {},
   "outputs": [],
   "source": []
  }
 ],
 "metadata": {
  "kernelspec": {
   "display_name": "Python 3",
   "language": "python",
   "name": "python3"
  },
  "language_info": {
   "codemirror_mode": {
    "name": "ipython",
    "version": 3
   },
   "file_extension": ".py",
   "mimetype": "text/x-python",
   "name": "python",
   "nbconvert_exporter": "python",
   "pygments_lexer": "ipython3",
   "version": "3.7.1"
  }
 },
 "nbformat": 4,
 "nbformat_minor": 2
}
